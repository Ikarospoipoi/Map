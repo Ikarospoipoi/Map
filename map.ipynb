{
 "cells": [
  {
   "cell_type": "code",
   "execution_count": 2,
   "metadata": {},
   "outputs": [
    {
     "name": "stdout",
     "output_type": "stream",
     "text": [
      "Map saved to /Users/ikaros/Desktop/interactive_map.html\n"
     ]
    }
   ],
   "source": [
    "import folium\n",
    "import os\n",
    "\n",
    "\n",
    "coordinates = {\n",
    "    \"Location A\": [-37.8136, 144.9631],  \n",
    "    \"Location B\": [-37.814, 144.96332],  \n",
    "    \"Location C\": [-37.815, 144.970],    \n",
    "\n",
    "}\n",
    "\n",
    "\n",
    "connections = [\n",
    "    (\"Location A\", \"Location B\", 0.5),\n",
    "    (\"Location A\", \"Location C\", 1.2),\n",
    "    (\"Location B\", \"Location C\", 0.8),\n",
    "]\n",
    "\n",
    "m = folium.Map(location=[-37.8136, 144.9631], zoom_start=14)\n",
    "\n",
    "for location, coord in coordinates.items():\n",
    "    folium.Marker(location=coord, popup=location).add_to(m)\n",
    "\n",
    "for start, end, distance in connections:\n",
    "    folium.PolyLine(\n",
    "        [coordinates[start], coordinates[end]],\n",
    "        color=\"blue\",\n",
    "        weight=2.5,\n",
    "        opacity=1,\n",
    "        popup=f\"{distance} km\"\n",
    "    ).add_to(m)\n",
    "\n",
    "save_path = os.path.expanduser(\"~/Desktop/interactive_map.html\")\n",
    "\n",
    "m.save(save_path)\n",
    "\n",
    "print(f\"Map saved to {save_path}\")\n"
   ]
  }
 ],
 "metadata": {
  "kernelspec": {
   "display_name": "base",
   "language": "python",
   "name": "python3"
  },
  "language_info": {
   "codemirror_mode": {
    "name": "ipython",
    "version": 3
   },
   "file_extension": ".py",
   "mimetype": "text/x-python",
   "name": "python",
   "nbconvert_exporter": "python",
   "pygments_lexer": "ipython3",
   "version": "3.11.5"
  }
 },
 "nbformat": 4,
 "nbformat_minor": 2
}
